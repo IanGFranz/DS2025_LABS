{
 "cells": [
  {
   "cell_type": "markdown",
   "id": "71749c44",
   "metadata": {},
   "source": [
    "#Welcome message"
   ]
  },
  {
   "cell_type": "code",
   "execution_count": 1,
   "id": "710f9caa",
   "metadata": {},
   "outputs": [
    {
     "name": "stdout",
     "output_type": "stream",
     "text": [
      "Welcome to Python programming!\n"
     ]
    }
   ],
   "source": [
    "print(\"Welcome to Python programming!\")"
   ]
  },
  {
   "cell_type": "markdown",
   "id": "b3aad365",
   "metadata": {},
   "source": [
    "#Basic arithmetic operations\n",
    "#Adding two numbers"
   ]
  },
  {
   "cell_type": "code",
   "execution_count": 2,
   "id": "57786ebb",
   "metadata": {},
   "outputs": [
    {
     "name": "stdout",
     "output_type": "stream",
     "text": [
      "The result of the addition is:  8\n"
     ]
    }
   ],
   "source": [
    "result_addition = 2 + 6\n",
    "print(\"The result of the addition is: \", result_addition)"
   ]
  },
  {
   "cell_type": "markdown",
   "id": "b40b3379",
   "metadata": {},
   "source": [
    "#Multiplying two numbers"
   ]
  },
  {
   "cell_type": "code",
   "execution_count": 3,
   "id": "02e62307",
   "metadata": {},
   "outputs": [
    {
     "name": "stdout",
     "output_type": "stream",
     "text": [
      "The result of the multiplication is:  15\n"
     ]
    }
   ],
   "source": [
    "result_multiplication = 5 * 3\n",
    "print(\"The result of the multiplication is: \", result_multiplication)"
   ]
  },
  {
   "cell_type": "markdown",
   "id": "59fd8c92",
   "metadata": {},
   "source": [
    "#Printing a simple message"
   ]
  },
  {
   "cell_type": "code",
   "execution_count": 4,
   "id": "8a650540",
   "metadata": {},
   "outputs": [
    {
     "name": "stdout",
     "output_type": "stream",
     "text": [
      "Hello World\n"
     ]
    }
   ],
   "source": [
    "print(\"Hello World\")"
   ]
  },
  {
   "cell_type": "markdown",
   "id": "53f2258c",
   "metadata": {},
   "source": [
    "#Variable assignments"
   ]
  },
  {
   "cell_type": "code",
   "execution_count": 5,
   "id": "20e4fbe0",
   "metadata": {},
   "outputs": [],
   "source": [
    "A = 10 #Assigning value 10 to variable A\n",
    "B = 4 #Assigning value 4 to variable B"
   ]
  },
  {
   "cell_type": "markdown",
   "id": "961a24ba",
   "metadata": {},
   "source": [
    "#Performing the printing results of arithmetic operations"
   ]
  },
  {
   "cell_type": "code",
   "execution_count": 6,
   "id": "3a4e7765",
   "metadata": {},
   "outputs": [
    {
     "name": "stdout",
     "output_type": "stream",
     "text": [
      "The result of the addition is 14\n",
      "The result of the multiplication is 14\n",
      "The result of the division is 14\n"
     ]
    }
   ],
   "source": [
    "print(\"The result of the addition is\", A + B)\n",
    "print(\"The result of the multiplication is\", A + B)\n",
    "print(\"The result of the division is\", A + B)\n"
   ]
  },
  {
   "cell_type": "markdown",
   "id": "ea107dfb",
   "metadata": {},
   "source": [
    "#Using variables to store user information"
   ]
  },
  {
   "cell_type": "code",
   "execution_count": 7,
   "id": "52f5cf68",
   "metadata": {},
   "outputs": [],
   "source": [
    "name = \"Bob\" #Assigning a name to the variable\n",
    "age = 28  #Assigning an age to the variable"
   ]
  },
  {
   "cell_type": "markdown",
   "id": "06008db3",
   "metadata": {},
   "source": [
    "#Printing user information"
   ]
  },
  {
   "cell_type": "code",
   "execution_count": 8,
   "id": "14f9e397",
   "metadata": {},
   "outputs": [
    {
     "name": "stdout",
     "output_type": "stream",
     "text": [
      "Hi! My name is Bob and I am 28 years old\n",
      "In 2 years i will be 30 years old.\n"
     ]
    }
   ],
   "source": [
    "print(\"Hi! My name is\", name, \"and I am\", age,\"years old\")\n",
    "print(f\"In 2 years i will be {age + 2} years old.\")"
   ]
  },
  {
   "cell_type": "markdown",
   "id": "add8d576",
   "metadata": {},
   "source": [
    "#Conditional statement based on age"
   ]
  },
  {
   "cell_type": "code",
   "execution_count": 9,
   "id": "f0de978e",
   "metadata": {},
   "outputs": [
    {
     "name": "stdout",
     "output_type": "stream",
     "text": [
      "Access recused. Common Bob, you can come back in 2 years.\n"
     ]
    }
   ],
   "source": [
    "if age > 30:\n",
    "  print(f\"Access granted. Welcome {name}.\")\n",
    "else:\n",
    "  print(f\"Access recused. Common {name}, you can come back in {30 - age} years.\")"
   ]
  },
  {
   "cell_type": "markdown",
   "id": "3e2837d6",
   "metadata": {},
   "source": [
    "#List of usernames"
   ]
  },
  {
   "cell_type": "code",
   "execution_count": 10,
   "id": "733ebf1f",
   "metadata": {},
   "outputs": [],
   "source": [
    "usernames = [\"Mark\", \"Sara\", \"Ahmad\", \"Johanna\"]"
   ]
  },
  {
   "cell_type": "markdown",
   "id": "cc0248e2",
   "metadata": {},
   "source": [
    "#Looping through the list and printing welcoming messages"
   ]
  },
  {
   "cell_type": "code",
   "execution_count": 11,
   "id": "c6e59221",
   "metadata": {},
   "outputs": [
    {
     "name": "stdout",
     "output_type": "stream",
     "text": [
      "Welcome Mark\n",
      "Welcome Sara\n",
      "Welcome Ahmad\n",
      "Welcome Johanna\n"
     ]
    }
   ],
   "source": [
    "for user in usernames:\n",
    "  print(f\"Welcome {user}\")"
   ]
  },
  {
   "cell_type": "markdown",
   "id": "f680bfa1",
   "metadata": {},
   "source": [
    "#Looping to demonstrate range and multiplications"
   ]
  },
  {
   "cell_type": "code",
   "execution_count": 12,
   "id": "3c4bf354",
   "metadata": {},
   "outputs": [
    {
     "name": "stdout",
     "output_type": "stream",
     "text": [
      "The double of 0 is 0\n",
      "The double of 1 is 2\n",
      "The double of 2 is 4\n",
      "The double of 3 is 6\n",
      "The double of 4 is 8\n",
      "The double of 5 is 10\n",
      "The double of 6 is 12\n",
      "The double of 7 is 14\n",
      "The double of 8 is 16\n",
      "The double of 9 is 18\n"
     ]
    }
   ],
   "source": [
    "for i in range(0, 10):\n",
    "  print(f\"The double of {i} is {2 * i}\")"
   ]
  },
  {
   "cell_type": "markdown",
   "id": "97fb7b80",
   "metadata": {},
   "source": [
    "#Experimenting with the print() function\n",
    "#Printing a greeting message"
   ]
  },
  {
   "cell_type": "code",
   "execution_count": 13,
   "id": "c0f1eccf",
   "metadata": {},
   "outputs": [
    {
     "name": "stdout",
     "output_type": "stream",
     "text": [
      "Hello, Data Scientists!\n"
     ]
    }
   ],
   "source": [
    "print(\"Hello, Data Scientists!\")"
   ]
  },
  {
   "cell_type": "markdown",
   "id": "4aff14ea",
   "metadata": {},
   "source": [
    "#Printing user's full name"
   ]
  },
  {
   "cell_type": "code",
   "execution_count": 14,
   "id": "8927c1e7",
   "metadata": {},
   "outputs": [
    {
     "name": "stdout",
     "output_type": "stream",
     "text": [
      "Ian Gabriel da Luz Franz\n"
     ]
    }
   ],
   "source": [
    "print(\"Ian Gabriel da Luz Franz\")"
   ]
  },
  {
   "cell_type": "markdown",
   "id": "997c09c2",
   "metadata": {},
   "source": [
    "#Demonstrating input function"
   ]
  },
  {
   "cell_type": "code",
   "execution_count": 15,
   "id": "c2d83b9e",
   "metadata": {},
   "outputs": [
    {
     "name": "stdout",
     "output_type": "stream",
     "text": [
      "Hello ps\n"
     ]
    }
   ],
   "source": [
    "pseudoname = input(\"please enter your pseudoname: \")\n",
    "print(\"Hello\", pseudoname)"
   ]
  },
  {
   "cell_type": "markdown",
   "id": "aa909382",
   "metadata": {},
   "source": [
    "#Demonstrate final variable values"
   ]
  },
  {
   "cell_type": "code",
   "execution_count": 16,
   "id": "521c2aab",
   "metadata": {},
   "outputs": [
    {
     "name": "stdout",
     "output_type": "stream",
     "text": [
      "The variable A is 10\n",
      "The variable B is 4\n",
      "The variable name is Bob\n",
      "The variable age is 28\n",
      "The variable pseudoname is ps\n",
      "The variable usernames is ['Mark', 'Sara', 'Ahmad', 'Johanna']\n"
     ]
    }
   ],
   "source": [
    "print(\"The variable A is\", A)\n",
    "print(\"The variable B is\", B)\n",
    "print(\"The variable name is\", name)\n",
    "print(\"The variable age is\", age)\n",
    "print(\"The variable pseudoname is\", pseudoname)\n",
    "print(\"The variable usernames is\", usernames)  "
   ]
  }
 ],
 "metadata": {
  "kernelspec": {
   "display_name": ".venv",
   "language": "python",
   "name": "python3"
  },
  "language_info": {
   "codemirror_mode": {
    "name": "ipython",
    "version": 3
   },
   "file_extension": ".py",
   "mimetype": "text/x-python",
   "name": "python",
   "nbconvert_exporter": "python",
   "pygments_lexer": "ipython3",
   "version": "3.13.7"
  }
 },
 "nbformat": 4,
 "nbformat_minor": 5
}
